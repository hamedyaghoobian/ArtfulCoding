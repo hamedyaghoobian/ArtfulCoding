{
  "nbformat": 4,
  "nbformat_minor": 0,
  "metadata": {
    "colab": {
      "provenance": [],
      "machine_shape": "hm",
      "authorship_tag": "ABX9TyNsFCwenSrKFEHNyQvSxdSr",
      "include_colab_link": true
    },
    "kernelspec": {
      "name": "python3",
      "display_name": "Python 3"
    },
    "language_info": {
      "name": "python"
    }
  },
  "cells": [
    {
      "cell_type": "markdown",
      "metadata": {
        "id": "view-in-github",
        "colab_type": "text"
      },
      "source": [
        "<a href=\"https://colab.research.google.com/github/hamedyaghoobian/ArtfulCoding/blob/main/punc_art.ipynb\" target=\"_parent\"><img src=\"https://colab.research.google.com/assets/colab-badge.svg\" alt=\"Open In Colab\"/></a>"
      ]
    },
    {
      "cell_type": "code",
      "source": [
        "!pip install PyPDF2"
      ],
      "metadata": {
        "colab": {
          "base_uri": "https://localhost:8080/"
        },
        "id": "tTExcHivyl4O",
        "outputId": "7458d2fc-31f7-4c64-aa94-00b4faab3fd4"
      },
      "execution_count": null,
      "outputs": [
        {
          "output_type": "stream",
          "name": "stdout",
          "text": [
            "Collecting PyPDF2\n",
            "  Downloading pypdf2-3.0.1-py3-none-any.whl (232 kB)\n",
            "\u001b[2K     \u001b[90m━━━━━━━━━━━━━━━━━━━━━━━━━━━━━━━━━━━━━━━\u001b[0m \u001b[32m232.6/232.6 kB\u001b[0m \u001b[31m4.1 MB/s\u001b[0m eta \u001b[36m0:00:00\u001b[0m\n",
            "\u001b[?25hInstalling collected packages: PyPDF2\n",
            "Successfully installed PyPDF2-3.0.1\n"
          ]
        }
      ]
    },
    {
      "cell_type": "code",
      "source": [
        "from google.colab import drive\n",
        "drive.mount('/content/drive')"
      ],
      "metadata": {
        "colab": {
          "base_uri": "https://localhost:8080/"
        },
        "id": "XgvLkin1zawL",
        "outputId": "ca739468-bacd-41c0-a0d7-0bac4e08444c"
      },
      "execution_count": null,
      "outputs": [
        {
          "output_type": "stream",
          "name": "stdout",
          "text": [
            "Drive already mounted at /content/drive; to attempt to forcibly remount, call drive.mount(\"/content/drive\", force_remount=True).\n"
          ]
        }
      ]
    },
    {
      "cell_type": "code",
      "source": [
        "cd drive/MyDrive/Code/ArtfulCoding/"
      ],
      "metadata": {
        "colab": {
          "base_uri": "https://localhost:8080/"
        },
        "id": "AikWVzbozls-",
        "outputId": "46732ffb-126e-400f-e08f-ecf792f2e41a"
      },
      "execution_count": null,
      "outputs": [
        {
          "output_type": "stream",
          "name": "stdout",
          "text": [
            "[Errno 2] No such file or directory: 'drive/MyDrive/Code/ArtfulCoding/'\n",
            "/content/drive/MyDrive/Code/ArtfulCoding\n"
          ]
        }
      ]
    },
    {
      "cell_type": "code",
      "source": [
        "import PyPDF2\n",
        "import string\n",
        "\n",
        "def extract_punctuations_from_pdf(pdf_path, output_file):\n",
        "    # Open the PDF file\n",
        "    with open(pdf_path, 'rb') as file:\n",
        "        reader = PyPDF2.PdfReader(file)\n",
        "\n",
        "        # Extract text from all pages\n",
        "        text = \"\"\n",
        "        for page in reader.pages:\n",
        "            text += page.extract_text()\n",
        "\n",
        "        # Extract punctuation characters\n",
        "        punctuations = ''.join(char for char in text if char in string.punctuation)\n",
        "\n",
        "        # Write to output file\n",
        "        with open(output_file, 'w') as out:\n",
        "            out.write(punctuations)\n",
        "\n",
        "# Example usage:\n",
        "# extract_punctuations_from_pdf('Capital_by_Karl_Marx.pdf', 'punctuations_artwork.txt')\n"
      ],
      "metadata": {
        "id": "Waxp8OiV0ZIo"
      },
      "execution_count": null,
      "outputs": []
    },
    {
      "cell_type": "code",
      "source": [
        "pdf_path = './pdf_files/'\n",
        "output_file = './punctuations_artwork.txt'\n",
        "extract_punctuations_from_pdf(pdf_path + 'Capital-Volume-I.pdf', output_file)\n"
      ],
      "metadata": {
        "id": "QBBK9GYRzqhY"
      },
      "execution_count": null,
      "outputs": []
    },
    {
      "cell_type": "code",
      "source": [
        "import PyPDF2\n",
        "import string\n",
        "\n",
        "def extract_pattern_from_pdf(pdf_path, pattern, output_file):\n",
        "    # Open the PDF file\n",
        "    with open(pdf_path, 'rb') as file:\n",
        "        reader = PyPDF2.PdfReader(file)\n",
        "\n",
        "        # Extract text from all pages\n",
        "        text = \"\"\n",
        "        for page in reader.pages:\n",
        "            text += page.extract_text()\n",
        "\n",
        "        # Extract specified pattern\n",
        "        matches = ''.join(pattern for _ in range(text.count(pattern)))\n",
        "\n",
        "        # Write to output file\n",
        "        with open(output_file, 'w') as out:\n",
        "            out.write(matches)\n",
        "\n",
        "# Example usage:\n",
        "# extract_pattern_from_pdf('Capital_by_Karl_Marx.pdf', 'th', 'th_artwork.txt')\n"
      ],
      "metadata": {
        "id": "qFN9uicA0JK3"
      },
      "execution_count": null,
      "outputs": []
    },
    {
      "cell_type": "code",
      "source": [
        "extract_pattern_from_pdf(pdf_path + 'Capital-Volume-I.pdf', 'th', 'th_artwork.txt')\n"
      ],
      "metadata": {
        "id": "Gznf0Wl-10aU"
      },
      "execution_count": null,
      "outputs": []
    }
  ]
}